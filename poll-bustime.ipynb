{
 "cells": [
  {
   "cell_type": "code",
   "execution_count": 7,
   "metadata": {
    "collapsed": true
   },
   "outputs": [],
   "source": [
    "import datetime, json, subprocess, time, urllib2"
   ]
  },
  {
   "cell_type": "code",
   "execution_count": 8,
   "metadata": {
    "collapsed": false
   },
   "outputs": [],
   "source": [
    "key = json.load(open('bustime_api_key.json'))['bustime_api_key']"
   ]
  },
  {
   "cell_type": "markdown",
   "metadata": {},
   "source": [
    "# BusTime Developer API version 3 guide\n",
    "http://truetime.portauthority.org/bustime/apidoc/docs/DeveloperAPIGuide3_0.pdf\n",
    "   \n",
    "   \n",
    "### 1.5 Is there a limit to the number of requests I can make to the Developer API?\n",
    "\n",
    "Yes. By default, one API key can make a maximum of 10,000 requests per day. If you believe\n",
    "that you will require more than 10,000 daily requests, you must request that the cap on your\n",
    "key be raised to handle the additional traffic"
   ]
  },
  {
   "cell_type": "code",
   "execution_count": 9,
   "metadata": {
    "collapsed": true
   },
   "outputs": [],
   "source": [
    "def call_api(path, args=''):\n",
    "    url = 'http://truetime.portauthority.org/bustime/api/%s?key=%s&format=json&%s' % (path, key, args)\n",
    "    # use curl;  we can't use urllib2 because the bustime server requires HTTP/1.1 and returns 505 if we attempt 1.0\n",
    "    return json.loads(subprocess.check_output(['/usr/bin/curl', url]))"
   ]
  },
  {
   "cell_type": "code",
   "execution_count": 10,
   "metadata": {
    "collapsed": false
   },
   "outputs": [],
   "source": [
    "#call_api('v3/getrtpidatafeeds')"
   ]
  },
  {
   "cell_type": "code",
   "execution_count": 11,
   "metadata": {
    "collapsed": false,
    "scrolled": true
   },
   "outputs": [
    {
     "data": {
      "text/plain": [
       "u'BLLB, BLSV, RED, 1, 11, 12, 13, 14, 15, 16, 17, 18, 19L, 2, 20, 21, 22, 24, 26, 27, 28X, 29, 31, 36, 38, 39, 4, 40, 41, 43, 44, 48, 51, 51L, 52L, 53, 53L, 54, 55, 56, 57, 58, 59, 6, 60, 61A, 61B, 61C, 61D, 64, 65, 67, 68, 69, 7, 71, 71A, 71B, 71C, 71D, 74, 75, 77, 79, 8, 81, 82, 83, 86, 87, 88, 89, 91, 93, G2, G3, G31, O1, O12, O5, P1, P10, P12, P13, P16, P17, P2, P3, P67, P68, P69, P7, P71, P76, P78, Y1, Y45, Y46, Y47, Y49'"
      ]
     },
     "execution_count": 11,
     "metadata": {},
     "output_type": "execute_result"
    }
   ],
   "source": [
    "routes = call_api('v3/getroutes')\n",
    "route_ids = [r['rt'] for r in routes['bustime-response']['routes']]\n",
    "', '.join(route_ids)"
   ]
  },
  {
   "cell_type": "code",
   "execution_count": null,
   "metadata": {
    "collapsed": false
   },
   "outputs": [
    {
     "name": "stdout",
     "output_type": "stream",
     "text": [
      "20180217 10:30:27: Appended 49706 bytes to data/20180217.log\n"
     ]
    }
   ],
   "source": [
    "def log_all():\n",
    "    t = time.time()\n",
    "    ret = {}\n",
    "    printable_timestamp = datetime.datetime.fromtimestamp(t).strftime('%Y%m%d %H:%M:%S')\n",
    "    ret[\"timestamp_epoch\"] = t\n",
    "    ret[\"timestamp_printable\"] = printable_timestamp\n",
    "    ret[\"getvehicles\"] = []\n",
    "    for i in range(0, len(route_ids), 10):\n",
    "        ret[\"getvehicles\"].append(call_api('v3/getvehicles', 'tmres=s&rt=' + ','.join(route_ids[i:i+10])))\n",
    "    filename = datetime.datetime.fromtimestamp(t).strftime('data/%Y%m%d.log')\n",
    "    record = json.dumps(ret) + '\\n'\n",
    "    open(filename, 'a').write(record)\n",
    "    print '%s: Appended %d bytes to %s' % (printable_timestamp, len(record), filename)\n",
    "    \n",
    "cadence = 90 # seconds\n",
    "target_time = int(time.time() / cadence) * cadence\n",
    "next_day = int(target_time / 86400 + 1) * 86400\n",
    "\n",
    "original_date = datetime.datetime.fromtimestamp(target_time).date()\n",
    "\n",
    "# Loop for a day\n",
    "while target_time < next_day:\n",
    "    t = time.time()\n",
    "    if t < target_time:\n",
    "        time.sleep(target_time - t)\n",
    "    log_all()\n",
    "    target_time += cadence"
   ]
  },
  {
   "cell_type": "code",
   "execution_count": null,
   "metadata": {
    "collapsed": true
   },
   "outputs": [],
   "source": []
  }
 ],
 "metadata": {
  "kernelspec": {
   "display_name": "Python 2",
   "language": "python",
   "name": "python2"
  },
  "language_info": {
   "codemirror_mode": {
    "name": "ipython",
    "version": 2
   },
   "file_extension": ".py",
   "mimetype": "text/x-python",
   "name": "python",
   "nbconvert_exporter": "python",
   "pygments_lexer": "ipython2",
   "version": "2.7.11"
  }
 },
 "nbformat": 4,
 "nbformat_minor": 0
}
